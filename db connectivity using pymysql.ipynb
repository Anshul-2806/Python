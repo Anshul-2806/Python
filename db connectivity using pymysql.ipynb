{
 "cells": [
  {
   "cell_type": "markdown",
   "id": "d69c5565-7af1-49ca-9b56-ed953ad43bed",
   "metadata": {},
   "source": [
    "DB using mysql connector and xampp in python"
   ]
  },
  {
   "cell_type": "code",
   "execution_count": 2,
   "id": "181686e8-7e4a-4aaa-9b2b-afb6736440df",
   "metadata": {},
   "outputs": [
    {
     "name": "stdout",
     "output_type": "stream",
     "text": [
      "Collecting pymysqlNote: you may need to restart the kernel to use updated packages.\n",
      "\n",
      "  Downloading PyMySQL-1.1.1-py3-none-any.whl.metadata (4.4 kB)\n",
      "Downloading PyMySQL-1.1.1-py3-none-any.whl (44 kB)\n",
      "   ---------------------------------------- 0.0/45.0 kB ? eta -:--:--\n",
      "   ---------------------------------------- 0.0/45.0 kB ? eta -:--:--\n",
      "   --------- ------------------------------ 10.2/45.0 kB ? eta -:--:--\n",
      "   --------- ------------------------------ 10.2/45.0 kB ? eta -:--:--\n",
      "   ------------------ --------------------- 20.5/45.0 kB 108.9 kB/s eta 0:00:01\n",
      "   ------------------ --------------------- 20.5/45.0 kB 108.9 kB/s eta 0:00:01\n",
      "   ------------------ --------------------- 20.5/45.0 kB 108.9 kB/s eta 0:00:01\n",
      "   ------------------ --------------------- 20.5/45.0 kB 108.9 kB/s eta 0:00:01\n",
      "   --------------------------- ------------ 30.7/45.0 kB 77.3 kB/s eta 0:00:01\n",
      "   --------------------------- ------------ 30.7/45.0 kB 77.3 kB/s eta 0:00:01\n",
      "   --------------------------- ------------ 30.7/45.0 kB 77.3 kB/s eta 0:00:01\n",
      "   ------------------------------------ --- 41.0/45.0 kB 72.8 kB/s eta 0:00:01\n",
      "   ---------------------------------------- 45.0/45.0 kB 71.8 kB/s eta 0:00:00\n",
      "Installing collected packages: pymysql\n",
      "Successfully installed pymysql-1.1.1\n"
     ]
    }
   ],
   "source": [
    "pip install pymysql"
   ]
  },
  {
   "cell_type": "code",
   "execution_count": 15,
   "id": "686065d3-fde9-4d56-9d95-bc3a3537c0e8",
   "metadata": {},
   "outputs": [
    {
     "name": "stdout",
     "output_type": "stream",
     "text": [
      "\n",
      " Table Description:\n",
      "('id', 'int(10)', 'NO', 'PRI', None, '')\n",
      "('name', 'varchar(20)', 'NO', '', None, '')\n",
      "('gender', 'char(1)', 'NO', '', None, '')\n",
      "('dept', 'varchar(10)', 'NO', '', None, '')\n",
      "\n",
      " Table Data:\n",
      "(1, 'anshul', 'M', 'MCA')\n",
      "(2, 'vishakha', 'F', 'MCA')\n",
      "(3, 'ananyo', 'M', 'CS')\n",
      "(4, 'modi', 'M', 'IT')\n",
      "(5, 'naira', 'F', 'AIDS')\n",
      "\n",
      " Table name, dept Data:\n",
      "('anshul', 'MCA')\n",
      "('vishakha', 'MCA')\n",
      "('ananyo', 'CS')\n",
      "('modi', 'IT')\n",
      "('naira', 'AIDS')\n"
     ]
    }
   ],
   "source": [
    "# import required modules \n",
    "import mysql.connector \n",
    "import pymysql\n",
    "\n",
    "# create connection object \n",
    "# con = mysql.connector.connect( host=\"localhost\", user=\"root\", password=\"\", database=\"GEEK\") \n",
    "\n",
    "con = pymysql.connect(host='localhost', user='root', password='', db='GEEK')\n",
    "\n",
    "\n",
    "# create cursor object \n",
    "cursor = con.cursor() \n",
    "\n",
    "# assign data query \n",
    "query1 = \"desc geekdemo\"\n",
    "\n",
    "# executing cursor \n",
    "cursor.execute(query1) \n",
    "\n",
    "# display all records \n",
    "table = cursor.fetchall() \n",
    "\n",
    "# describe table \n",
    "print('\\n Table Description:') \n",
    "for attr in table: \n",
    "\tprint(attr) \n",
    "\n",
    "# assign query\n",
    "query2 = \"SELECT * FROM geekdemo\"\n",
    "\n",
    "# executing cursor \n",
    "cursor.execute(query2)\n",
    "\n",
    "# display all records \n",
    "table = cursor.fetchall() \n",
    "\n",
    "# describe table \n",
    "print('\\n Table Data:') \n",
    "for i in table: \n",
    "\tprint(i)\n",
    "\n",
    "# assign data query \n",
    "query3 = \"select name,dept from geekdemo\"\n",
    "\n",
    "# executing cursor \n",
    "cursor.execute(query3) \n",
    "\n",
    "# display all records \n",
    "table = cursor.fetchall() \n",
    "\n",
    "# fetch all columns \n",
    "print('\\n Table name, dept Data:') \n",
    "for row in table:\n",
    "    print(row)\n",
    "\t\n",
    "# closing cursor connection \n",
    "cursor.close() \n",
    "\n",
    "# closing connection object \n",
    "con.close()"
   ]
  },
  {
   "cell_type": "code",
   "execution_count": null,
   "id": "78446b3a-167d-4997-b517-508ae267f952",
   "metadata": {},
   "outputs": [],
   "source": []
  }
 ],
 "metadata": {
  "kernelspec": {
   "display_name": "Python 3 (ipykernel)",
   "language": "python",
   "name": "python3"
  },
  "language_info": {
   "codemirror_mode": {
    "name": "ipython",
    "version": 3
   },
   "file_extension": ".py",
   "mimetype": "text/x-python",
   "name": "python",
   "nbconvert_exporter": "python",
   "pygments_lexer": "ipython3",
   "version": "3.12.4"
  }
 },
 "nbformat": 4,
 "nbformat_minor": 5
}
